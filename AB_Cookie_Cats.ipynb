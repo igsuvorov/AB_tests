{
  "nbformat": 4,
  "nbformat_minor": 0,
  "metadata": {
    "colab": {
      "provenance": []
    },
    "kernelspec": {
      "name": "python3",
      "display_name": "Python 3"
    },
    "language_info": {
      "name": "python"
    }
  },
  "cells": [
    {
      "cell_type": "code",
      "source": [
        "import numpy as np\n",
        "import scipy.stats as st\n",
        "import pandas as pd\n",
        "import math\n",
        "import matplotlib.pyplot as plt\n",
        "import seaborn as sns"
      ],
      "metadata": {
        "id": "_oY1wYj8xRMy"
      },
      "execution_count": 1,
      "outputs": []
    },
    {
      "cell_type": "markdown",
      "metadata": {
        "id": "QdrGnupi_oP8"
      },
      "source": [
        "Cookie Cats - чрезвычайно популярная мобильная игра-головоломка, разработанная Tactile Entertainment. Это классическая игра-головоломка в стиле «соедините три», в которой игрок должен соединять плитки одного цвета, чтобы очистить поле и выиграть уровень. "
      ]
    },
    {
      "cell_type": "markdown",
      "metadata": {
        "id": "c_UYCwec_oP8"
      },
      "source": [
        "<p style=\"align: center;\"><img align=center src=\"https://i.ytimg.com/vi/iPxZIp0cbJE/maxresdefault.jpg\"  width=500></p>\n",
        " \n",
        " \n",
        "<p style=\"align: center;\"><img align=center src=\"https://s3.amazonaws.com/assets.datacamp.com/production/project_184/img/cc_gates.png\"  width=500></p>\n"
      ]
    },
    {
      "cell_type": "markdown",
      "metadata": {
        "id": "MbTJiGlQ_oP8"
      },
      "source": [
        "По мере прохождения уровней игры игроки время от времени сталкиваются с воротами, которые заставляют их ждать некоторое количество времени или совершать покупки в приложении, чтобы продолжить. Помимо стимулирования покупок в приложении, эти ворота служат важной цели - дать игрокам вынужденный перерыв в игре, что, как мы надеемся, приведет к увеличению и продлению удовольствия от игры."
      ]
    },
    {
      "cell_type": "markdown",
      "metadata": {
        "id": "adL49_n-_oP9"
      },
      "source": [
        "<b>Но где ставить ворота? </b>\n",
        "Первоначально первые ворота были размещены на уровне 30. В этом проекте вам предлагается проанализировать AB-тест, в котором создатели переместили первые ворота в Cookie Cats с 30 уровня на уровень 40. В частности, вам надо рассмотрим влияние A/B теста на удержание игроков."
      ]
    },
    {
      "cell_type": "markdown",
      "metadata": {
        "id": "j2oJPW-c_oP-"
      },
      "source": [
        "### Данные A/B тестирования"
      ]
    },
    {
      "cell_type": "code",
      "execution_count": 3,
      "metadata": {
        "ExecuteTime": {
          "end_time": "2022-03-01T11:32:16.121587Z",
          "start_time": "2022-03-01T11:32:16.031531Z"
        },
        "colab": {
          "base_uri": "https://localhost:8080/",
          "height": 424
        },
        "id": "PQyAsYa-_oP-",
        "outputId": "0a1a68e7-4065-4acb-e89c-0fd2538281d5"
      },
      "outputs": [
        {
          "output_type": "execute_result",
          "data": {
            "text/plain": [
              "        userid  version  sum_gamerounds  retention_1  retention_7\n",
              "0          116  gate_30               3        False        False\n",
              "1          337  gate_30              38         True        False\n",
              "2          377  gate_40             165         True        False\n",
              "3          483  gate_40               1        False        False\n",
              "4          488  gate_40             179         True         True\n",
              "...        ...      ...             ...          ...          ...\n",
              "90184  9999441  gate_40              97         True        False\n",
              "90185  9999479  gate_40              30        False        False\n",
              "90186  9999710  gate_30              28         True        False\n",
              "90187  9999768  gate_40              51         True        False\n",
              "90188  9999861  gate_40              16        False        False\n",
              "\n",
              "[90189 rows x 5 columns]"
            ],
            "text/html": [
              "\n",
              "  <div id=\"df-4ec17642-8c45-49d6-9993-471363970d0f\">\n",
              "    <div class=\"colab-df-container\">\n",
              "      <div>\n",
              "<style scoped>\n",
              "    .dataframe tbody tr th:only-of-type {\n",
              "        vertical-align: middle;\n",
              "    }\n",
              "\n",
              "    .dataframe tbody tr th {\n",
              "        vertical-align: top;\n",
              "    }\n",
              "\n",
              "    .dataframe thead th {\n",
              "        text-align: right;\n",
              "    }\n",
              "</style>\n",
              "<table border=\"1\" class=\"dataframe\">\n",
              "  <thead>\n",
              "    <tr style=\"text-align: right;\">\n",
              "      <th></th>\n",
              "      <th>userid</th>\n",
              "      <th>version</th>\n",
              "      <th>sum_gamerounds</th>\n",
              "      <th>retention_1</th>\n",
              "      <th>retention_7</th>\n",
              "    </tr>\n",
              "  </thead>\n",
              "  <tbody>\n",
              "    <tr>\n",
              "      <th>0</th>\n",
              "      <td>116</td>\n",
              "      <td>gate_30</td>\n",
              "      <td>3</td>\n",
              "      <td>False</td>\n",
              "      <td>False</td>\n",
              "    </tr>\n",
              "    <tr>\n",
              "      <th>1</th>\n",
              "      <td>337</td>\n",
              "      <td>gate_30</td>\n",
              "      <td>38</td>\n",
              "      <td>True</td>\n",
              "      <td>False</td>\n",
              "    </tr>\n",
              "    <tr>\n",
              "      <th>2</th>\n",
              "      <td>377</td>\n",
              "      <td>gate_40</td>\n",
              "      <td>165</td>\n",
              "      <td>True</td>\n",
              "      <td>False</td>\n",
              "    </tr>\n",
              "    <tr>\n",
              "      <th>3</th>\n",
              "      <td>483</td>\n",
              "      <td>gate_40</td>\n",
              "      <td>1</td>\n",
              "      <td>False</td>\n",
              "      <td>False</td>\n",
              "    </tr>\n",
              "    <tr>\n",
              "      <th>4</th>\n",
              "      <td>488</td>\n",
              "      <td>gate_40</td>\n",
              "      <td>179</td>\n",
              "      <td>True</td>\n",
              "      <td>True</td>\n",
              "    </tr>\n",
              "    <tr>\n",
              "      <th>...</th>\n",
              "      <td>...</td>\n",
              "      <td>...</td>\n",
              "      <td>...</td>\n",
              "      <td>...</td>\n",
              "      <td>...</td>\n",
              "    </tr>\n",
              "    <tr>\n",
              "      <th>90184</th>\n",
              "      <td>9999441</td>\n",
              "      <td>gate_40</td>\n",
              "      <td>97</td>\n",
              "      <td>True</td>\n",
              "      <td>False</td>\n",
              "    </tr>\n",
              "    <tr>\n",
              "      <th>90185</th>\n",
              "      <td>9999479</td>\n",
              "      <td>gate_40</td>\n",
              "      <td>30</td>\n",
              "      <td>False</td>\n",
              "      <td>False</td>\n",
              "    </tr>\n",
              "    <tr>\n",
              "      <th>90186</th>\n",
              "      <td>9999710</td>\n",
              "      <td>gate_30</td>\n",
              "      <td>28</td>\n",
              "      <td>True</td>\n",
              "      <td>False</td>\n",
              "    </tr>\n",
              "    <tr>\n",
              "      <th>90187</th>\n",
              "      <td>9999768</td>\n",
              "      <td>gate_40</td>\n",
              "      <td>51</td>\n",
              "      <td>True</td>\n",
              "      <td>False</td>\n",
              "    </tr>\n",
              "    <tr>\n",
              "      <th>90188</th>\n",
              "      <td>9999861</td>\n",
              "      <td>gate_40</td>\n",
              "      <td>16</td>\n",
              "      <td>False</td>\n",
              "      <td>False</td>\n",
              "    </tr>\n",
              "  </tbody>\n",
              "</table>\n",
              "<p>90189 rows × 5 columns</p>\n",
              "</div>\n",
              "      <button class=\"colab-df-convert\" onclick=\"convertToInteractive('df-4ec17642-8c45-49d6-9993-471363970d0f')\"\n",
              "              title=\"Convert this dataframe to an interactive table.\"\n",
              "              style=\"display:none;\">\n",
              "        \n",
              "  <svg xmlns=\"http://www.w3.org/2000/svg\" height=\"24px\"viewBox=\"0 0 24 24\"\n",
              "       width=\"24px\">\n",
              "    <path d=\"M0 0h24v24H0V0z\" fill=\"none\"/>\n",
              "    <path d=\"M18.56 5.44l.94 2.06.94-2.06 2.06-.94-2.06-.94-.94-2.06-.94 2.06-2.06.94zm-11 1L8.5 8.5l.94-2.06 2.06-.94-2.06-.94L8.5 2.5l-.94 2.06-2.06.94zm10 10l.94 2.06.94-2.06 2.06-.94-2.06-.94-.94-2.06-.94 2.06-2.06.94z\"/><path d=\"M17.41 7.96l-1.37-1.37c-.4-.4-.92-.59-1.43-.59-.52 0-1.04.2-1.43.59L10.3 9.45l-7.72 7.72c-.78.78-.78 2.05 0 2.83L4 21.41c.39.39.9.59 1.41.59.51 0 1.02-.2 1.41-.59l7.78-7.78 2.81-2.81c.8-.78.8-2.07 0-2.86zM5.41 20L4 18.59l7.72-7.72 1.47 1.35L5.41 20z\"/>\n",
              "  </svg>\n",
              "      </button>\n",
              "      \n",
              "  <style>\n",
              "    .colab-df-container {\n",
              "      display:flex;\n",
              "      flex-wrap:wrap;\n",
              "      gap: 12px;\n",
              "    }\n",
              "\n",
              "    .colab-df-convert {\n",
              "      background-color: #E8F0FE;\n",
              "      border: none;\n",
              "      border-radius: 50%;\n",
              "      cursor: pointer;\n",
              "      display: none;\n",
              "      fill: #1967D2;\n",
              "      height: 32px;\n",
              "      padding: 0 0 0 0;\n",
              "      width: 32px;\n",
              "    }\n",
              "\n",
              "    .colab-df-convert:hover {\n",
              "      background-color: #E2EBFA;\n",
              "      box-shadow: 0px 1px 2px rgba(60, 64, 67, 0.3), 0px 1px 3px 1px rgba(60, 64, 67, 0.15);\n",
              "      fill: #174EA6;\n",
              "    }\n",
              "\n",
              "    [theme=dark] .colab-df-convert {\n",
              "      background-color: #3B4455;\n",
              "      fill: #D2E3FC;\n",
              "    }\n",
              "\n",
              "    [theme=dark] .colab-df-convert:hover {\n",
              "      background-color: #434B5C;\n",
              "      box-shadow: 0px 1px 3px 1px rgba(0, 0, 0, 0.15);\n",
              "      filter: drop-shadow(0px 1px 2px rgba(0, 0, 0, 0.3));\n",
              "      fill: #FFFFFF;\n",
              "    }\n",
              "  </style>\n",
              "\n",
              "      <script>\n",
              "        const buttonEl =\n",
              "          document.querySelector('#df-4ec17642-8c45-49d6-9993-471363970d0f button.colab-df-convert');\n",
              "        buttonEl.style.display =\n",
              "          google.colab.kernel.accessAllowed ? 'block' : 'none';\n",
              "\n",
              "        async function convertToInteractive(key) {\n",
              "          const element = document.querySelector('#df-4ec17642-8c45-49d6-9993-471363970d0f');\n",
              "          const dataTable =\n",
              "            await google.colab.kernel.invokeFunction('convertToInteractive',\n",
              "                                                     [key], {});\n",
              "          if (!dataTable) return;\n",
              "\n",
              "          const docLinkHtml = 'Like what you see? Visit the ' +\n",
              "            '<a target=\"_blank\" href=https://colab.research.google.com/notebooks/data_table.ipynb>data table notebook</a>'\n",
              "            + ' to learn more about interactive tables.';\n",
              "          element.innerHTML = '';\n",
              "          dataTable['output_type'] = 'display_data';\n",
              "          await google.colab.output.renderOutput(dataTable, element);\n",
              "          const docLink = document.createElement('div');\n",
              "          docLink.innerHTML = docLinkHtml;\n",
              "          element.appendChild(docLink);\n",
              "        }\n",
              "      </script>\n",
              "    </div>\n",
              "  </div>\n",
              "  "
            ]
          },
          "metadata": {},
          "execution_count": 3
        }
      ],
      "source": [
        "data = pd.read_csv('cookie_cats.csv', on_bad_lines='skip')  \n",
        "data"
      ]
    },
    {
      "cell_type": "markdown",
      "metadata": {
        "id": "mJc5_kaB_oP_"
      },
      "source": [
        "**Данные получены от 90 189 игроков, которые установили игру во время проведения AB-теста. Переменные:**\n",
        "\n",
        "* `userid` - уникальный номер, идентифицирующий каждого игрока.\n",
        "\n",
        "* `version` - был ли игрок помещен в контрольную группу (gate_30 - ворота на уровне 30) или в тестовую группу (gate_40 - ворота на уровне 40).\n",
        "\n",
        "* `sum_gamerounds` - количество игровых раундов, сыгранных игроком в течение первой недели после установки\n",
        "* `retention_1` - игрок вернулся и поиграл через 1 день после установки?\n",
        "* `retention_7` - игрок вернулся и играл через 7 дней после установки?\n",
        "\n",
        "Когда игрок устанавливал игру, ему случайным образом назначали `gate_30` или `gate_40`."
      ]
    },
    {
      "cell_type": "markdown",
      "metadata": {
        "id": "e5piaEnk_oP_"
      },
      "source": [
        "<b>Задача: провести анализ данных и сделать выводы о лучшем месте для установки ворот.</b>"
      ]
    },
    {
      "cell_type": "code",
      "execution_count": 4,
      "metadata": {
        "ExecuteTime": {
          "end_time": "2022-03-01T11:32:16.153569Z",
          "start_time": "2022-03-01T11:32:16.125537Z"
        },
        "scrolled": true,
        "colab": {
          "base_uri": "https://localhost:8080/"
        },
        "id": "nODV2mOf_oP_",
        "outputId": "7b628eb9-6e4b-4a11-efd0-5852b3ce362c"
      },
      "outputs": [
        {
          "output_type": "execute_result",
          "data": {
            "text/plain": [
              "version\n",
              "gate_30    44700\n",
              "gate_40    45489\n",
              "Name: version, dtype: int64"
            ]
          },
          "metadata": {},
          "execution_count": 4
        }
      ],
      "source": [
        "# Посмотрим на количество участников теста.\n",
        "data.groupby('version').version.count()"
      ]
    },
    {
      "cell_type": "code",
      "execution_count": 5,
      "metadata": {
        "ExecuteTime": {
          "end_time": "2022-03-01T11:32:16.201531Z",
          "start_time": "2022-03-01T11:32:16.157530Z"
        },
        "colab": {
          "base_uri": "https://localhost:8080/",
          "height": 143
        },
        "id": "NeJfy96r_oP_",
        "outputId": "18fbab06-56cc-4835-dda9-5b578cfc9f1f"
      },
      "outputs": [
        {
          "output_type": "execute_result",
          "data": {
            "text/plain": [
              "               userid  sum_gamerounds  retention_1  retention_7\n",
              "version                                                        \n",
              "gate_30  222944098441         2344795        20034         8502\n",
              "gate_40  227857702576         2333530        20119         8279"
            ],
            "text/html": [
              "\n",
              "  <div id=\"df-d6214bab-7246-46c1-9140-e9d5655fd39e\">\n",
              "    <div class=\"colab-df-container\">\n",
              "      <div>\n",
              "<style scoped>\n",
              "    .dataframe tbody tr th:only-of-type {\n",
              "        vertical-align: middle;\n",
              "    }\n",
              "\n",
              "    .dataframe tbody tr th {\n",
              "        vertical-align: top;\n",
              "    }\n",
              "\n",
              "    .dataframe thead th {\n",
              "        text-align: right;\n",
              "    }\n",
              "</style>\n",
              "<table border=\"1\" class=\"dataframe\">\n",
              "  <thead>\n",
              "    <tr style=\"text-align: right;\">\n",
              "      <th></th>\n",
              "      <th>userid</th>\n",
              "      <th>sum_gamerounds</th>\n",
              "      <th>retention_1</th>\n",
              "      <th>retention_7</th>\n",
              "    </tr>\n",
              "    <tr>\n",
              "      <th>version</th>\n",
              "      <th></th>\n",
              "      <th></th>\n",
              "      <th></th>\n",
              "      <th></th>\n",
              "    </tr>\n",
              "  </thead>\n",
              "  <tbody>\n",
              "    <tr>\n",
              "      <th>gate_30</th>\n",
              "      <td>222944098441</td>\n",
              "      <td>2344795</td>\n",
              "      <td>20034</td>\n",
              "      <td>8502</td>\n",
              "    </tr>\n",
              "    <tr>\n",
              "      <th>gate_40</th>\n",
              "      <td>227857702576</td>\n",
              "      <td>2333530</td>\n",
              "      <td>20119</td>\n",
              "      <td>8279</td>\n",
              "    </tr>\n",
              "  </tbody>\n",
              "</table>\n",
              "</div>\n",
              "      <button class=\"colab-df-convert\" onclick=\"convertToInteractive('df-d6214bab-7246-46c1-9140-e9d5655fd39e')\"\n",
              "              title=\"Convert this dataframe to an interactive table.\"\n",
              "              style=\"display:none;\">\n",
              "        \n",
              "  <svg xmlns=\"http://www.w3.org/2000/svg\" height=\"24px\"viewBox=\"0 0 24 24\"\n",
              "       width=\"24px\">\n",
              "    <path d=\"M0 0h24v24H0V0z\" fill=\"none\"/>\n",
              "    <path d=\"M18.56 5.44l.94 2.06.94-2.06 2.06-.94-2.06-.94-.94-2.06-.94 2.06-2.06.94zm-11 1L8.5 8.5l.94-2.06 2.06-.94-2.06-.94L8.5 2.5l-.94 2.06-2.06.94zm10 10l.94 2.06.94-2.06 2.06-.94-2.06-.94-.94-2.06-.94 2.06-2.06.94z\"/><path d=\"M17.41 7.96l-1.37-1.37c-.4-.4-.92-.59-1.43-.59-.52 0-1.04.2-1.43.59L10.3 9.45l-7.72 7.72c-.78.78-.78 2.05 0 2.83L4 21.41c.39.39.9.59 1.41.59.51 0 1.02-.2 1.41-.59l7.78-7.78 2.81-2.81c.8-.78.8-2.07 0-2.86zM5.41 20L4 18.59l7.72-7.72 1.47 1.35L5.41 20z\"/>\n",
              "  </svg>\n",
              "      </button>\n",
              "      \n",
              "  <style>\n",
              "    .colab-df-container {\n",
              "      display:flex;\n",
              "      flex-wrap:wrap;\n",
              "      gap: 12px;\n",
              "    }\n",
              "\n",
              "    .colab-df-convert {\n",
              "      background-color: #E8F0FE;\n",
              "      border: none;\n",
              "      border-radius: 50%;\n",
              "      cursor: pointer;\n",
              "      display: none;\n",
              "      fill: #1967D2;\n",
              "      height: 32px;\n",
              "      padding: 0 0 0 0;\n",
              "      width: 32px;\n",
              "    }\n",
              "\n",
              "    .colab-df-convert:hover {\n",
              "      background-color: #E2EBFA;\n",
              "      box-shadow: 0px 1px 2px rgba(60, 64, 67, 0.3), 0px 1px 3px 1px rgba(60, 64, 67, 0.15);\n",
              "      fill: #174EA6;\n",
              "    }\n",
              "\n",
              "    [theme=dark] .colab-df-convert {\n",
              "      background-color: #3B4455;\n",
              "      fill: #D2E3FC;\n",
              "    }\n",
              "\n",
              "    [theme=dark] .colab-df-convert:hover {\n",
              "      background-color: #434B5C;\n",
              "      box-shadow: 0px 1px 3px 1px rgba(0, 0, 0, 0.15);\n",
              "      filter: drop-shadow(0px 1px 2px rgba(0, 0, 0, 0.3));\n",
              "      fill: #FFFFFF;\n",
              "    }\n",
              "  </style>\n",
              "\n",
              "      <script>\n",
              "        const buttonEl =\n",
              "          document.querySelector('#df-d6214bab-7246-46c1-9140-e9d5655fd39e button.colab-df-convert');\n",
              "        buttonEl.style.display =\n",
              "          google.colab.kernel.accessAllowed ? 'block' : 'none';\n",
              "\n",
              "        async function convertToInteractive(key) {\n",
              "          const element = document.querySelector('#df-d6214bab-7246-46c1-9140-e9d5655fd39e');\n",
              "          const dataTable =\n",
              "            await google.colab.kernel.invokeFunction('convertToInteractive',\n",
              "                                                     [key], {});\n",
              "          if (!dataTable) return;\n",
              "\n",
              "          const docLinkHtml = 'Like what you see? Visit the ' +\n",
              "            '<a target=\"_blank\" href=https://colab.research.google.com/notebooks/data_table.ipynb>data table notebook</a>'\n",
              "            + ' to learn more about interactive tables.';\n",
              "          element.innerHTML = '';\n",
              "          dataTable['output_type'] = 'display_data';\n",
              "          await google.colab.output.renderOutput(dataTable, element);\n",
              "          const docLink = document.createElement('div');\n",
              "          docLink.innerHTML = docLinkHtml;\n",
              "          element.appendChild(docLink);\n",
              "        }\n",
              "      </script>\n",
              "    </div>\n",
              "  </div>\n",
              "  "
            ]
          },
          "metadata": {},
          "execution_count": 5
        }
      ],
      "source": [
        "data.groupby('version').sum()"
      ]
    },
    {
      "cell_type": "code",
      "execution_count": 6,
      "metadata": {
        "ExecuteTime": {
          "end_time": "2022-03-01T11:32:16.265528Z",
          "start_time": "2022-03-01T11:32:16.203529Z"
        },
        "colab": {
          "base_uri": "https://localhost:8080/",
          "height": 143
        },
        "id": "WJ8llhK4_oQA",
        "outputId": "d5ff8d11-94ac-49b7-bd72-0d05750b7e2b"
      },
      "outputs": [
        {
          "output_type": "execute_result",
          "data": {
            "text/plain": [
              "               userid  sum_gamerounds  retention_1  retention_7\n",
              "version                                                        \n",
              "gate_30  4.987564e+06       52.456264     0.448188     0.190201\n",
              "gate_40  5.009073e+06       51.298776     0.442283     0.182000"
            ],
            "text/html": [
              "\n",
              "  <div id=\"df-f57978a6-f88c-49fb-9f59-2be9437b0c68\">\n",
              "    <div class=\"colab-df-container\">\n",
              "      <div>\n",
              "<style scoped>\n",
              "    .dataframe tbody tr th:only-of-type {\n",
              "        vertical-align: middle;\n",
              "    }\n",
              "\n",
              "    .dataframe tbody tr th {\n",
              "        vertical-align: top;\n",
              "    }\n",
              "\n",
              "    .dataframe thead th {\n",
              "        text-align: right;\n",
              "    }\n",
              "</style>\n",
              "<table border=\"1\" class=\"dataframe\">\n",
              "  <thead>\n",
              "    <tr style=\"text-align: right;\">\n",
              "      <th></th>\n",
              "      <th>userid</th>\n",
              "      <th>sum_gamerounds</th>\n",
              "      <th>retention_1</th>\n",
              "      <th>retention_7</th>\n",
              "    </tr>\n",
              "    <tr>\n",
              "      <th>version</th>\n",
              "      <th></th>\n",
              "      <th></th>\n",
              "      <th></th>\n",
              "      <th></th>\n",
              "    </tr>\n",
              "  </thead>\n",
              "  <tbody>\n",
              "    <tr>\n",
              "      <th>gate_30</th>\n",
              "      <td>4.987564e+06</td>\n",
              "      <td>52.456264</td>\n",
              "      <td>0.448188</td>\n",
              "      <td>0.190201</td>\n",
              "    </tr>\n",
              "    <tr>\n",
              "      <th>gate_40</th>\n",
              "      <td>5.009073e+06</td>\n",
              "      <td>51.298776</td>\n",
              "      <td>0.442283</td>\n",
              "      <td>0.182000</td>\n",
              "    </tr>\n",
              "  </tbody>\n",
              "</table>\n",
              "</div>\n",
              "      <button class=\"colab-df-convert\" onclick=\"convertToInteractive('df-f57978a6-f88c-49fb-9f59-2be9437b0c68')\"\n",
              "              title=\"Convert this dataframe to an interactive table.\"\n",
              "              style=\"display:none;\">\n",
              "        \n",
              "  <svg xmlns=\"http://www.w3.org/2000/svg\" height=\"24px\"viewBox=\"0 0 24 24\"\n",
              "       width=\"24px\">\n",
              "    <path d=\"M0 0h24v24H0V0z\" fill=\"none\"/>\n",
              "    <path d=\"M18.56 5.44l.94 2.06.94-2.06 2.06-.94-2.06-.94-.94-2.06-.94 2.06-2.06.94zm-11 1L8.5 8.5l.94-2.06 2.06-.94-2.06-.94L8.5 2.5l-.94 2.06-2.06.94zm10 10l.94 2.06.94-2.06 2.06-.94-2.06-.94-.94-2.06-.94 2.06-2.06.94z\"/><path d=\"M17.41 7.96l-1.37-1.37c-.4-.4-.92-.59-1.43-.59-.52 0-1.04.2-1.43.59L10.3 9.45l-7.72 7.72c-.78.78-.78 2.05 0 2.83L4 21.41c.39.39.9.59 1.41.59.51 0 1.02-.2 1.41-.59l7.78-7.78 2.81-2.81c.8-.78.8-2.07 0-2.86zM5.41 20L4 18.59l7.72-7.72 1.47 1.35L5.41 20z\"/>\n",
              "  </svg>\n",
              "      </button>\n",
              "      \n",
              "  <style>\n",
              "    .colab-df-container {\n",
              "      display:flex;\n",
              "      flex-wrap:wrap;\n",
              "      gap: 12px;\n",
              "    }\n",
              "\n",
              "    .colab-df-convert {\n",
              "      background-color: #E8F0FE;\n",
              "      border: none;\n",
              "      border-radius: 50%;\n",
              "      cursor: pointer;\n",
              "      display: none;\n",
              "      fill: #1967D2;\n",
              "      height: 32px;\n",
              "      padding: 0 0 0 0;\n",
              "      width: 32px;\n",
              "    }\n",
              "\n",
              "    .colab-df-convert:hover {\n",
              "      background-color: #E2EBFA;\n",
              "      box-shadow: 0px 1px 2px rgba(60, 64, 67, 0.3), 0px 1px 3px 1px rgba(60, 64, 67, 0.15);\n",
              "      fill: #174EA6;\n",
              "    }\n",
              "\n",
              "    [theme=dark] .colab-df-convert {\n",
              "      background-color: #3B4455;\n",
              "      fill: #D2E3FC;\n",
              "    }\n",
              "\n",
              "    [theme=dark] .colab-df-convert:hover {\n",
              "      background-color: #434B5C;\n",
              "      box-shadow: 0px 1px 3px 1px rgba(0, 0, 0, 0.15);\n",
              "      filter: drop-shadow(0px 1px 2px rgba(0, 0, 0, 0.3));\n",
              "      fill: #FFFFFF;\n",
              "    }\n",
              "  </style>\n",
              "\n",
              "      <script>\n",
              "        const buttonEl =\n",
              "          document.querySelector('#df-f57978a6-f88c-49fb-9f59-2be9437b0c68 button.colab-df-convert');\n",
              "        buttonEl.style.display =\n",
              "          google.colab.kernel.accessAllowed ? 'block' : 'none';\n",
              "\n",
              "        async function convertToInteractive(key) {\n",
              "          const element = document.querySelector('#df-f57978a6-f88c-49fb-9f59-2be9437b0c68');\n",
              "          const dataTable =\n",
              "            await google.colab.kernel.invokeFunction('convertToInteractive',\n",
              "                                                     [key], {});\n",
              "          if (!dataTable) return;\n",
              "\n",
              "          const docLinkHtml = 'Like what you see? Visit the ' +\n",
              "            '<a target=\"_blank\" href=https://colab.research.google.com/notebooks/data_table.ipynb>data table notebook</a>'\n",
              "            + ' to learn more about interactive tables.';\n",
              "          element.innerHTML = '';\n",
              "          dataTable['output_type'] = 'display_data';\n",
              "          await google.colab.output.renderOutput(dataTable, element);\n",
              "          const docLink = document.createElement('div');\n",
              "          docLink.innerHTML = docLinkHtml;\n",
              "          element.appendChild(docLink);\n",
              "        }\n",
              "      </script>\n",
              "    </div>\n",
              "  </div>\n",
              "  "
            ]
          },
          "metadata": {},
          "execution_count": 6
        }
      ],
      "source": [
        "data.groupby('version').mean()"
      ]
    },
    {
      "cell_type": "code",
      "execution_count": 7,
      "metadata": {
        "ExecuteTime": {
          "end_time": "2022-03-01T11:32:17.067526Z",
          "start_time": "2022-03-01T11:32:16.283526Z"
        },
        "colab": {
          "base_uri": "https://localhost:8080/",
          "height": 592
        },
        "id": "k1cpN8fk_oQA",
        "outputId": "d671bb2d-bbe6-4e44-bdde-02cae5fc2800"
      },
      "outputs": [
        {
          "output_type": "display_data",
          "data": {
            "text/plain": [
              "<Figure size 1080x720 with 1 Axes>"
            ],
            "image/png": "[encoded data removed]"
          },
          "metadata": {
            "needs_background": "light"
          }
        }
      ],
      "source": [
        "v_30 = data.loc[data.version == 'gate_30']\n",
        "v_40 = data.loc[data.version == 'gate_40']\n",
        "v_30 = v_30.drop(v_30.loc[v_30.sum_gamerounds > 200].index)\n",
        "v_40 = v_40.drop(v_40.loc[v_40.sum_gamerounds > 200].index)\n",
        "\n",
        "\n",
        "bins = 200\n",
        "plt.figure(figsize=(15, 10))\n",
        "plt.hist(v_30['sum_gamerounds'], bins=bins, alpha=1,\n",
        "         edgecolor='black', label='gate 30')\n",
        "plt.hist(v_40['sum_gamerounds'], bins=bins, alpha=0.7, label='gate 40')\n",
        "plt.legend(loc='upper right', bbox_to_anchor=(0.45, 0.35))\n",
        "plt.show()"
      ]
    },
    {
      "cell_type": "code",
      "execution_count": 8,
      "metadata": {
        "ExecuteTime": {
          "end_time": "2022-03-01T11:32:17.665527Z",
          "start_time": "2022-03-01T11:32:17.085537Z"
        },
        "colab": {
          "base_uri": "https://localhost:8080/",
          "height": 369
        },
        "id": "IPDMwI4Q_oQA",
        "outputId": "2b384758-c2a5-4cc3-b6e0-cdabf81b6d81"
      },
      "outputs": [
        {
          "output_type": "display_data",
          "data": {
            "text/plain": [
              "<Figure size 748.875x360 with 2 Axes>"
            ],
            "image/png": "[encoded data removed]"
          },
          "metadata": {
            "needs_background": "light"
          }
        }
      ],
      "source": [
        "df = data.loc[data['sum_gamerounds'] < 100].copy();\n",
        "\n",
        "sns.catplot(x=\"version\", y=\"sum_gamerounds\",\n",
        "            hue=\"retention_1\", col = 'retention_7',\n",
        "            data=df, kind=\"box\",\n",
        "            height=5, aspect=.95);\n"
      ]
    },
    {
      "cell_type": "markdown",
      "metadata": {
        "id": "Veg6VqKB_oQA"
      },
      "source": [
        "Н0 - распределения одинаковы"
      ]
    },
    {
      "cell_type": "code",
      "execution_count": 9,
      "metadata": {
        "ExecuteTime": {
          "end_time": "2022-03-01T11:32:17.726536Z",
          "start_time": "2022-03-01T11:32:17.668527Z"
        },
        "colab": {
          "base_uri": "https://localhost:8080/"
        },
        "id": "KoQeoH49_oQA",
        "outputId": "f0fab21a-bcee-4bc5-b10d-e03b6ec3ca7d"
      },
      "outputs": [
        {
          "output_type": "stream",
          "name": "stdout",
          "text": [
            "Статистика=1024331250.500, p=0.050\n",
            "Не отклоняем нулевую гипотезу, распределения, вероятно, одинаковые\n"
          ]
        }
      ],
      "source": [
        "from scipy.stats import mannwhitneyu\n",
        "import scipy.stats as stats\n",
        "\n",
        "stat, p = mannwhitneyu(data[data['version'] == 'gate_30']['sum_gamerounds'], data[data['version'] == 'gate_40']['sum_gamerounds'])\n",
        "\n",
        "print('Статистика=%.3f, p=%.3f' % (stat, p))\n",
        "if p > 0.05:\n",
        "    print('Не отклоняем нулевую гипотезу, распределения, вероятно, одинаковые')\n",
        "else:\n",
        "    print('Отклоняем нулевую гипотезу, распределения, вероятно, различаются')\n"
      ]
    },
    {
      "cell_type": "markdown",
      "metadata": {
        "id": "7ZLEyQI2_oQB"
      },
      "source": [
        "Применяем Bootstrap для того, чтобы более наглядно убедиться в наличии различий"
      ]
    },
    {
      "cell_type": "code",
      "execution_count": 10,
      "metadata": {
        "ExecuteTime": {
          "end_time": "2022-03-01T11:32:32.977525Z",
          "start_time": "2022-03-01T11:32:17.746530Z"
        },
        "colab": {
          "base_uri": "https://localhost:8080/",
          "height": 301
        },
        "id": "_kE_8Ysk_oQB",
        "outputId": "0816631a-922c-4dae-8623-75e5c390abe7"
      },
      "outputs": [
        {
          "output_type": "execute_result",
          "data": {
            "text/plain": [
              "<matplotlib.axes._subplots.AxesSubplot at 0x7f75e18b2a30>"
            ]
          },
          "metadata": {},
          "execution_count": 10
        },
        {
          "output_type": "display_data",
          "data": {
            "text/plain": [
              "<Figure size 1080x720 with 0 Axes>"
            ]
          },
          "metadata": {}
        },
        {
          "output_type": "display_data",
          "data": {
            "text/plain": [
              "<Figure size 432x288 with 1 Axes>"
            ],
            "image/png": "[encoded data removed]"
          },
          "metadata": {
            "needs_background": "light"
          }
        }
      ],
      "source": [
        "plt.figure(figsize=(15, 10))\n",
        "# boot_1d - собираем статистику по средним, для неё можно применить t-тест\n",
        "boot_1d = []\n",
        "for i in range(1000):\n",
        "    boot_mean = data.sample(frac=1, replace=True).groupby(\n",
        "        'version')['retention_7'].mean()\n",
        "    boot_1d.append(boot_mean)\n",
        "\n",
        "# Преобразование списка в DataFrame\n",
        "boot_1d = pd.DataFrame(boot_1d)\n",
        "\n",
        "# График полученного распределения\n",
        "boot_1d.plot(kind='density')"
      ]
    },
    {
      "cell_type": "markdown",
      "metadata": {
        "id": "1XKj7Fpb_oQB"
      },
      "source": [
        "Прежде чем использовать t-тест, необходимо проверить равенство дисперссий. Сделаем это с помощью <a href=\"https://ru.wikipedia.org/wiki/F-%D1%82%D0%B5%D1%81%D1%82\">F-теста</a>. Используем собстенную функцию. "
      ]
    },
    {
      "cell_type": "markdown",
      "source": [
        "Н0 - дисперсии выборок одинаковы"
      ],
      "metadata": {
        "id": "sURGD3bo0B0x"
      }
    },
    {
      "cell_type": "code",
      "execution_count": 11,
      "metadata": {
        "id": "fkYQEKLv_oQB"
      },
      "outputs": [],
      "source": [
        "def f_test(group1, group2):\n",
        "    f = np.var(group1, ddof=1)/np.var(group2, ddof=1)\n",
        "    nun = group1.size-1\n",
        "    dun = group2.size-1\n",
        "    p_value = 1-st.f.cdf(f, nun, dun)\n",
        "    return f, p_value"
      ]
    },
    {
      "cell_type": "code",
      "execution_count": 12,
      "metadata": {
        "colab": {
          "base_uri": "https://localhost:8080/"
        },
        "id": "e5_7--dR_oQB",
        "outputId": "92f72bac-8da1-4a22-c275-1eed39e878e5"
      },
      "outputs": [
        {
          "output_type": "stream",
          "name": "stdout",
          "text": [
            "Статистика=1.091, p=0.08381\n",
            "Не отклоняем нулевую гипотезу, дисперссии, вероятно, одинаковые\n"
          ]
        }
      ],
      "source": [
        "stat, p = f_test(boot_1d['gate_30'], boot_1d['gate_40'])\n",
        "\n",
        "print('Статистика=%.3f, p=%.5f' % (stat, p))\n",
        "\n",
        "if p > 0.05:\n",
        "    print('Не отклоняем нулевую гипотезу, дисперссии, вероятно, одинаковые')\n",
        "else:\n",
        "    print('Отклоняем нулевую гипотезу, дисперссии, вероятно, различаются')"
      ]
    },
    {
      "cell_type": "markdown",
      "metadata": {
        "id": "bN0AMPZ-_oQC"
      },
      "source": [
        "Теперь можно использовать t-критерий "
      ]
    },
    {
      "cell_type": "markdown",
      "source": [
        "Н0 - средние выборок одинаковы"
      ],
      "metadata": {
        "id": "2BFjmnVg1Cxe"
      }
    },
    {
      "cell_type": "code",
      "execution_count": null,
      "metadata": {
        "colab": {
          "base_uri": "https://localhost:8080/"
        },
        "id": "1MIW40Th_oQC",
        "outputId": "e042e4fe-a69d-4a19-dbda-93a4086647dc"
      },
      "outputs": [
        {
          "output_type": "stream",
          "name": "stdout",
          "text": [
            "Статистика=100.132, p=0.00000\n",
            "Отклоняем нулевую гипотезу, средние, вероятно, различаются\n"
          ]
        }
      ],
      "source": [
        "stat, p = st.ttest_ind(boot_1d['gate_30'], boot_1d['gate_40'])\n",
        "print('Статистика=%.3f, p=%.5f' % (stat, p))\n",
        "\n",
        "if p > 0.05:\n",
        "    print('Не отклоняем нулевую гипотезу, средние, вероятно, одинаковые')\n",
        "else:\n",
        "    print('Отклоняем нулевую гипотезу, средние, вероятно, различаются')"
      ]
    },
    {
      "cell_type": "markdown",
      "metadata": {
        "id": "EmGtZi0C_oQD"
      },
      "source": [
        "<b>Выводы.</b> Наше значение $p$ близко к нулю, поэтому мы отвергаем нулевую гипотезу о том, что средние значения двух выборок одинаковые. То есть существует статистически значимая разница между тем где поставить ворота!"
      ]
    }
  ]
}